{
 "cells": [
  {
   "cell_type": "code",
   "execution_count": 53,
   "metadata": {},
   "outputs": [],
   "source": [
    "import glob\n",
    "import torch\n",
    "import pandas as pd\n",
    "from pathlib import Path\n",
    "from tqdm import tqdm"
   ]
  },
  {
   "cell_type": "code",
   "execution_count": 40,
   "metadata": {},
   "outputs": [],
   "source": [
    "batches = glob.glob('/media/nas_mount/Karmanya/wav2vec_whole/batched/train/*.pt')"
   ]
  },
  {
   "cell_type": "code",
   "execution_count": 42,
   "metadata": {},
   "outputs": [],
   "source": [
    "labels = pd.read_csv('/media/nas_mount/Karmanya/wav2vec_whole/labels.csv')"
   ]
  },
  {
   "cell_type": "code",
   "execution_count": 28,
   "metadata": {},
   "outputs": [],
   "source": [
    "start, end  = Path(batch).stem.split('_')"
   ]
  },
  {
   "cell_type": "code",
   "execution_count": 49,
   "metadata": {},
   "outputs": [],
   "source": [
    "path = Path('/media/nas_mount/Karmanya/wav2vec_whole/unbatched/train')\n",
    "path.mkdir(parents=True, exist_ok=True)"
   ]
  },
  {
   "cell_type": "code",
   "execution_count": 57,
   "metadata": {},
   "outputs": [
    {
     "name": "stdout",
     "output_type": "stream",
     "text": [
      "test-live__session_150800__response_209049_1563812_5797797_17765752__EYcpRTjpOUm64U8VsKOBuw.jpeg\n",
      "test-live__session_137677__response_197436_1543330_5687736_17655235__Fq01nbiYr0OFbYvAZsPKFg.jpeg\n",
      "t_169958_1493285_5432106_5138592e-6c73-4c78-b9f4-d31f0b282594.jpeg\n",
      "test-live__session_164923__response_222037_1586651_5920767_17888958__YjWwUF3XQUe64ZjbQcnVzg.jpeg\n",
      "test-live__session_141724__response_201114_1549938_5722778_17690733__W8Yb8ipZCkeWGURdgMgGfQ.jpeg\n",
      "test-live__session_187845__response_241603_1621170_6106548_18077171__-hBjiJVP30WgY7SZXx8WVw.jpeg\n",
      "test-live__session_185730__response_239736_1617747_6088556_18059043__qYXP7ZxzNECtH-hUeswngA.jpeg\n",
      "t_166960_1487905_5403663_b19fbe8c-ab50-4f47-8ed4-68ac28dedae3.jpeg\n"
     ]
    }
   ],
   "source": [
    "for name, tensor in zip(labels.iloc[int(start): int(end)+1].name.values, torch.chunk(torch.load(batch), dim=0, chunks=8)):\n",
    "    print(name)\n",
    "#     pd.np.save(path/f'{name}', tensor.cpu())\n",
    "    \n",
    "#     torch.save(tensor, path/f'{name}.pt')"
   ]
  },
  {
   "cell_type": "code",
   "execution_count": 60,
   "metadata": {},
   "outputs": [
    {
     "data": {
      "text/plain": [
       "(1, 512, 5998)"
      ]
     },
     "execution_count": 60,
     "metadata": {},
     "output_type": "execute_result"
    }
   ],
   "source": [
    "pd.np.load(path/f'test-live__session_150800__response_209049_1563812_5797797_17765752__EYcpRTjpOUm64U8VsKOBuw.jpeg.npy').shape"
   ]
  },
  {
   "cell_type": "code",
   "execution_count": null,
   "metadata": {},
   "outputs": [],
   "source": []
  }
 ],
 "metadata": {
  "kernelspec": {
   "display_name": "Python 3",
   "language": "python",
   "name": "python3"
  },
  "language_info": {
   "codemirror_mode": {
    "name": "ipython",
    "version": 3
   },
   "file_extension": ".py",
   "mimetype": "text/x-python",
   "name": "python",
   "nbconvert_exporter": "python",
   "pygments_lexer": "ipython3",
   "version": "3.7.5"
  }
 },
 "nbformat": 4,
 "nbformat_minor": 4
}
